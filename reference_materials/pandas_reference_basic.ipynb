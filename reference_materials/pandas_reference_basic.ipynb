{
 "metadata": {
  "language_info": {
   "codemirror_mode": {
    "name": "ipython",
    "version": 3
   },
   "file_extension": ".py",
   "mimetype": "text/x-python",
   "name": "python",
   "nbconvert_exporter": "python",
   "pygments_lexer": "ipython3",
   "version": "3.8.3-final"
  },
  "orig_nbformat": 2,
  "kernelspec": {
   "name": "python383jvsc74a57bd0eb8f35743f9001c30e3bbd777425f7e52a39aada76c3a9d7849db12bd416f99c",
   "display_name": "Python 3.8.3 64-bit (conda)"
  }
 },
 "nbformat": 4,
 "nbformat_minor": 2,
 "cells": [
  {
   "cell_type": "code",
   "execution_count": 179,
   "metadata": {},
   "outputs": [],
   "source": [
    "import os\n",
    "import pandas as pd"
   ]
  },
  {
   "cell_type": "code",
   "execution_count": 180,
   "metadata": {},
   "outputs": [],
   "source": [
    "os.chdir(r'C:\\Users\\tanzh\\Documents\\sandbox folder for python\\sample files')"
   ]
  },
  {
   "source": [
    "occurrencePandas Functions\n",
    "================\n",
    "* pd.concat([df1, df2]) --- to combine DataFrames\n",
    "\n",
    "\n",
    "DataFrame Methods & Functions\n",
    "=============================\n",
    "* df.describe() --- to return the columns' statistics\n",
    "* df.info() --- to return high level summary of the columns\n",
    "* df.isnull() --- return a DataFrame with Boolean values testing if cell is na\n",
    "* df.sample(frac=0.5) --- to randomly return 50% of the data\n",
    "* df.shape --- to return the rows and columns \n",
    "* df.count() --- to return the number of non-zero items in each column\n",
    "* df.values --- to generate a 2D numpy array\n",
    "* df.memory_usage(deep=True) --- if deep=True, it will retrieve the true memory usage for string/object datatype else it will retrieve the size of the pointer\n",
    "* df.select_dtypes(include=[['datetime', 'object']], exclude=[['float']]) --- to include/exclude columns of defined datatypes\n",
    "* df[['col1']].rolling(5).mean()\n",
    "* df.duplicated(keep=False) --- return a Boolean series where ALL occurrence of duplicated records will display True\n",
    "\n",
    "Drop Functions\n",
    "--------------\n",
    "* df.drop([['col1']], axis=1, inplace=True) --- to remove data\n",
    "* df.dropna(axis=0, thresh=4, inplace=False) --- require at least 4 non-NA items otherwise remove row, use subset parameter if targeting specific column\n",
    "* df.drop_duplicates(keep=False, ignore_index=True) --- if keep=False, drop all duplicates, if keep=first, drop first duplicate occurrence\n",
    "\n",
    "\n",
    "\n",
    "\n",
    "\n",
    "\n"
   ],
   "cell_type": "markdown",
   "metadata": {}
  },
  {
   "source": [
    "# Pandas Basics"
   ],
   "cell_type": "markdown",
   "metadata": {}
  },
  {
   "cell_type": "code",
   "execution_count": 181,
   "metadata": {},
   "outputs": [
    {
     "output_type": "execute_result",
     "data": {
      "text/plain": [
       "        Date       Open       High        Low      Close  Adj Close  \\\n",
       "0 2010-06-29        NaN        NaN        NaN        NaN  23.889999   \n",
       "1 2010-06-30        NaN  30.420000  23.299999  23.830000  23.830000   \n",
       "2 2010-01-07  25.000000        NaN  20.270000  21.959999  21.959999   \n",
       "3 2010-02-07  23.000000  23.100000        NaN  19.200001  19.200001   \n",
       "4 2010-06-07  20.000000  20.000000  15.830000        NaN  16.110001   \n",
       "5 2010-07-07  16.400000  16.629999  14.980000  15.800000        NaN   \n",
       "6 2010-08-07  16.139999  17.520000  15.570000  17.459999  17.459999   \n",
       "7 2010-09-07  17.580000  17.900000  16.549999  17.400000  17.400000   \n",
       "8 2010-12-07  17.950001  18.070000  17.000000  17.049999  17.049999   \n",
       "9 2010-07-13  17.389999  18.639999  16.900000  18.139999  18.139999   \n",
       "\n",
       "       Volume  \n",
       "0  18766300.0  \n",
       "1  17187100.0  \n",
       "2   8218800.0  \n",
       "3   5139800.0  \n",
       "4   6866900.0  \n",
       "5   6921700.0  \n",
       "6         NaN  \n",
       "7   4050600.0  \n",
       "8   2202500.0  \n",
       "9   2680100.0  "
      ],
      "text/html": "<div>\n<style scoped>\n    .dataframe tbody tr th:only-of-type {\n        vertical-align: middle;\n    }\n\n    .dataframe tbody tr th {\n        vertical-align: top;\n    }\n\n    .dataframe thead th {\n        text-align: right;\n    }\n</style>\n<table border=\"1\" class=\"dataframe\">\n  <thead>\n    <tr style=\"text-align: right;\">\n      <th></th>\n      <th>Date</th>\n      <th>Open</th>\n      <th>High</th>\n      <th>Low</th>\n      <th>Close</th>\n      <th>Adj Close</th>\n      <th>Volume</th>\n    </tr>\n  </thead>\n  <tbody>\n    <tr>\n      <th>0</th>\n      <td>2010-06-29</td>\n      <td>NaN</td>\n      <td>NaN</td>\n      <td>NaN</td>\n      <td>NaN</td>\n      <td>23.889999</td>\n      <td>18766300.0</td>\n    </tr>\n    <tr>\n      <th>1</th>\n      <td>2010-06-30</td>\n      <td>NaN</td>\n      <td>30.420000</td>\n      <td>23.299999</td>\n      <td>23.830000</td>\n      <td>23.830000</td>\n      <td>17187100.0</td>\n    </tr>\n    <tr>\n      <th>2</th>\n      <td>2010-01-07</td>\n      <td>25.000000</td>\n      <td>NaN</td>\n      <td>20.270000</td>\n      <td>21.959999</td>\n      <td>21.959999</td>\n      <td>8218800.0</td>\n    </tr>\n    <tr>\n      <th>3</th>\n      <td>2010-02-07</td>\n      <td>23.000000</td>\n      <td>23.100000</td>\n      <td>NaN</td>\n      <td>19.200001</td>\n      <td>19.200001</td>\n      <td>5139800.0</td>\n    </tr>\n    <tr>\n      <th>4</th>\n      <td>2010-06-07</td>\n      <td>20.000000</td>\n      <td>20.000000</td>\n      <td>15.830000</td>\n      <td>NaN</td>\n      <td>16.110001</td>\n      <td>6866900.0</td>\n    </tr>\n    <tr>\n      <th>5</th>\n      <td>2010-07-07</td>\n      <td>16.400000</td>\n      <td>16.629999</td>\n      <td>14.980000</td>\n      <td>15.800000</td>\n      <td>NaN</td>\n      <td>6921700.0</td>\n    </tr>\n    <tr>\n      <th>6</th>\n      <td>2010-08-07</td>\n      <td>16.139999</td>\n      <td>17.520000</td>\n      <td>15.570000</td>\n      <td>17.459999</td>\n      <td>17.459999</td>\n      <td>NaN</td>\n    </tr>\n    <tr>\n      <th>7</th>\n      <td>2010-09-07</td>\n      <td>17.580000</td>\n      <td>17.900000</td>\n      <td>16.549999</td>\n      <td>17.400000</td>\n      <td>17.400000</td>\n      <td>4050600.0</td>\n    </tr>\n    <tr>\n      <th>8</th>\n      <td>2010-12-07</td>\n      <td>17.950001</td>\n      <td>18.070000</td>\n      <td>17.000000</td>\n      <td>17.049999</td>\n      <td>17.049999</td>\n      <td>2202500.0</td>\n    </tr>\n    <tr>\n      <th>9</th>\n      <td>2010-07-13</td>\n      <td>17.389999</td>\n      <td>18.639999</td>\n      <td>16.900000</td>\n      <td>18.139999</td>\n      <td>18.139999</td>\n      <td>2680100.0</td>\n    </tr>\n  </tbody>\n</table>\n</div>"
     },
     "metadata": {},
     "execution_count": 181
    }
   ],
   "source": [
    "# how to read files into pandas dataframe\n",
    "data = pd.read_csv('tesla_stock_yahoo.csv', parse_dates=['Date'])\n",
    "\n",
    "###########\n",
    "# if the csv file is very large, we can divide the file into chunks to load into a pandas dataframe\n",
    "data_chunks = pd.read_csv('tesla_stock_yahoo.csv', parse_dates=['Date'], chunksize=50) # chunks of 50 rows of data\n",
    "data = pd.concat(data_chunks)\n",
    "\n",
    "data.head(10) # if no parameter is passed through, the top 5 rows in the table will be returned "
   ]
  },
  {
   "cell_type": "code",
   "execution_count": 182,
   "metadata": {},
   "outputs": [
    {
     "output_type": "stream",
     "name": "stdout",
     "text": [
      "<class 'pandas.core.frame.DataFrame'>\nRangeIndex: 1793 entries, 0 to 1792\nData columns (total 7 columns):\n #   Column     Non-Null Count  Dtype         \n---  ------     --------------  -----         \n 0   Date       1793 non-null   datetime64[ns]\n 1   Open       1791 non-null   float64       \n 2   High       1791 non-null   float64       \n 3   Low        1791 non-null   float64       \n 4   Close      1791 non-null   float64       \n 5   Adj Close  1792 non-null   float64       \n 6   Volume     1792 non-null   float64       \ndtypes: datetime64[ns](1), float64(6)\nmemory usage: 98.2 KB\n"
     ]
    }
   ],
   "source": [
    "data.info() # provides high level information on the data"
   ]
  },
  {
   "cell_type": "code",
   "execution_count": 183,
   "metadata": {},
   "outputs": [
    {
     "output_type": "execute_result",
     "data": {
      "text/plain": [
       "              Open         High          Low        Close    Adj Close  \\\n",
       "count  1791.000000  1791.000000  1791.000000  1791.000000  1792.000000   \n",
       "mean    143.051703   145.492200   140.452060   143.040888   142.974570   \n",
       "std     101.900712   103.316433   100.316972   101.884265   101.894485   \n",
       "min      16.139999    16.629999    14.980000    15.800000    16.110001   \n",
       "25%      30.564999    31.355001    29.730001    30.660000    30.632500   \n",
       "50%     176.160004   180.470001   171.199997   177.110001   176.960000   \n",
       "75%     227.209999   230.794999   222.860001   226.940002   226.915001   \n",
       "max     386.690002   386.989990   379.350006   383.450012   383.450012   \n",
       "\n",
       "             Volume  \n",
       "count  1.792000e+03  \n",
       "mean   4.444361e+06  \n",
       "std    4.306755e+06  \n",
       "min    1.185000e+05  \n",
       "25%    1.262525e+06  \n",
       "50%    3.417250e+06  \n",
       "75%    5.964200e+06  \n",
       "max    3.716390e+07  "
      ],
      "text/html": "<div>\n<style scoped>\n    .dataframe tbody tr th:only-of-type {\n        vertical-align: middle;\n    }\n\n    .dataframe tbody tr th {\n        vertical-align: top;\n    }\n\n    .dataframe thead th {\n        text-align: right;\n    }\n</style>\n<table border=\"1\" class=\"dataframe\">\n  <thead>\n    <tr style=\"text-align: right;\">\n      <th></th>\n      <th>Open</th>\n      <th>High</th>\n      <th>Low</th>\n      <th>Close</th>\n      <th>Adj Close</th>\n      <th>Volume</th>\n    </tr>\n  </thead>\n  <tbody>\n    <tr>\n      <th>count</th>\n      <td>1791.000000</td>\n      <td>1791.000000</td>\n      <td>1791.000000</td>\n      <td>1791.000000</td>\n      <td>1792.000000</td>\n      <td>1.792000e+03</td>\n    </tr>\n    <tr>\n      <th>mean</th>\n      <td>143.051703</td>\n      <td>145.492200</td>\n      <td>140.452060</td>\n      <td>143.040888</td>\n      <td>142.974570</td>\n      <td>4.444361e+06</td>\n    </tr>\n    <tr>\n      <th>std</th>\n      <td>101.900712</td>\n      <td>103.316433</td>\n      <td>100.316972</td>\n      <td>101.884265</td>\n      <td>101.894485</td>\n      <td>4.306755e+06</td>\n    </tr>\n    <tr>\n      <th>min</th>\n      <td>16.139999</td>\n      <td>16.629999</td>\n      <td>14.980000</td>\n      <td>15.800000</td>\n      <td>16.110001</td>\n      <td>1.185000e+05</td>\n    </tr>\n    <tr>\n      <th>25%</th>\n      <td>30.564999</td>\n      <td>31.355001</td>\n      <td>29.730001</td>\n      <td>30.660000</td>\n      <td>30.632500</td>\n      <td>1.262525e+06</td>\n    </tr>\n    <tr>\n      <th>50%</th>\n      <td>176.160004</td>\n      <td>180.470001</td>\n      <td>171.199997</td>\n      <td>177.110001</td>\n      <td>176.960000</td>\n      <td>3.417250e+06</td>\n    </tr>\n    <tr>\n      <th>75%</th>\n      <td>227.209999</td>\n      <td>230.794999</td>\n      <td>222.860001</td>\n      <td>226.940002</td>\n      <td>226.915001</td>\n      <td>5.964200e+06</td>\n    </tr>\n    <tr>\n      <th>max</th>\n      <td>386.690002</td>\n      <td>386.989990</td>\n      <td>379.350006</td>\n      <td>383.450012</td>\n      <td>383.450012</td>\n      <td>3.716390e+07</td>\n    </tr>\n  </tbody>\n</table>\n</div>"
     },
     "metadata": {},
     "execution_count": 183
    }
   ],
   "source": [
    "data.describe() # provide high level"
   ]
  },
  {
   "cell_type": "code",
   "execution_count": 184,
   "metadata": {},
   "outputs": [
    {
     "output_type": "execute_result",
     "data": {
      "text/plain": [
       "           Date        Open        High         Low       Close   Adj Close  \\\n",
       "639  2013-09-01   34.009998   34.189999   33.400002   33.639999   33.639999   \n",
       "476  2012-05-15   30.260000   30.959999   29.219999   29.430000   29.430000   \n",
       "1034 2014-05-08  237.470001  242.990005  235.690002  238.490005  238.490005   \n",
       "186  2011-03-22   22.730000   22.860001   22.000000   22.190001   22.190001   \n",
       "1152 2015-01-23  200.289993  203.500000  198.330002  201.289993  201.289993   \n",
       "...         ...         ...         ...         ...         ...         ...   \n",
       "1013 2014-07-07  227.500000  229.779999  220.399994  222.660004  222.660004   \n",
       "286  2011-12-08   25.600000   27.139999   25.360001   26.309999   26.309999   \n",
       "1423 2016-02-22  170.119995  178.910004  169.850006  177.740005  177.740005   \n",
       "1556 2016-08-30  216.110001  216.110001  210.520004  211.339996  211.339996   \n",
       "1149 2015-01-20  193.869995  194.119995  187.039993  191.929993  191.929993   \n",
       "\n",
       "         Volume  \n",
       "639    698000.0  \n",
       "476   1585700.0  \n",
       "1034  5388600.0  \n",
       "186    582900.0  \n",
       "1152  3438600.0  \n",
       "...         ...  \n",
       "1013  5893700.0  \n",
       "286   1009100.0  \n",
       "1423  5060100.0  \n",
       "1556  3168900.0  \n",
       "1149  4503200.0  \n",
       "\n",
       "[1793 rows x 7 columns]"
      ],
      "text/html": "<div>\n<style scoped>\n    .dataframe tbody tr th:only-of-type {\n        vertical-align: middle;\n    }\n\n    .dataframe tbody tr th {\n        vertical-align: top;\n    }\n\n    .dataframe thead th {\n        text-align: right;\n    }\n</style>\n<table border=\"1\" class=\"dataframe\">\n  <thead>\n    <tr style=\"text-align: right;\">\n      <th></th>\n      <th>Date</th>\n      <th>Open</th>\n      <th>High</th>\n      <th>Low</th>\n      <th>Close</th>\n      <th>Adj Close</th>\n      <th>Volume</th>\n    </tr>\n  </thead>\n  <tbody>\n    <tr>\n      <th>639</th>\n      <td>2013-09-01</td>\n      <td>34.009998</td>\n      <td>34.189999</td>\n      <td>33.400002</td>\n      <td>33.639999</td>\n      <td>33.639999</td>\n      <td>698000.0</td>\n    </tr>\n    <tr>\n      <th>476</th>\n      <td>2012-05-15</td>\n      <td>30.260000</td>\n      <td>30.959999</td>\n      <td>29.219999</td>\n      <td>29.430000</td>\n      <td>29.430000</td>\n      <td>1585700.0</td>\n    </tr>\n    <tr>\n      <th>1034</th>\n      <td>2014-05-08</td>\n      <td>237.470001</td>\n      <td>242.990005</td>\n      <td>235.690002</td>\n      <td>238.490005</td>\n      <td>238.490005</td>\n      <td>5388600.0</td>\n    </tr>\n    <tr>\n      <th>186</th>\n      <td>2011-03-22</td>\n      <td>22.730000</td>\n      <td>22.860001</td>\n      <td>22.000000</td>\n      <td>22.190001</td>\n      <td>22.190001</td>\n      <td>582900.0</td>\n    </tr>\n    <tr>\n      <th>1152</th>\n      <td>2015-01-23</td>\n      <td>200.289993</td>\n      <td>203.500000</td>\n      <td>198.330002</td>\n      <td>201.289993</td>\n      <td>201.289993</td>\n      <td>3438600.0</td>\n    </tr>\n    <tr>\n      <th>...</th>\n      <td>...</td>\n      <td>...</td>\n      <td>...</td>\n      <td>...</td>\n      <td>...</td>\n      <td>...</td>\n      <td>...</td>\n    </tr>\n    <tr>\n      <th>1013</th>\n      <td>2014-07-07</td>\n      <td>227.500000</td>\n      <td>229.779999</td>\n      <td>220.399994</td>\n      <td>222.660004</td>\n      <td>222.660004</td>\n      <td>5893700.0</td>\n    </tr>\n    <tr>\n      <th>286</th>\n      <td>2011-12-08</td>\n      <td>25.600000</td>\n      <td>27.139999</td>\n      <td>25.360001</td>\n      <td>26.309999</td>\n      <td>26.309999</td>\n      <td>1009100.0</td>\n    </tr>\n    <tr>\n      <th>1423</th>\n      <td>2016-02-22</td>\n      <td>170.119995</td>\n      <td>178.910004</td>\n      <td>169.850006</td>\n      <td>177.740005</td>\n      <td>177.740005</td>\n      <td>5060100.0</td>\n    </tr>\n    <tr>\n      <th>1556</th>\n      <td>2016-08-30</td>\n      <td>216.110001</td>\n      <td>216.110001</td>\n      <td>210.520004</td>\n      <td>211.339996</td>\n      <td>211.339996</td>\n      <td>3168900.0</td>\n    </tr>\n    <tr>\n      <th>1149</th>\n      <td>2015-01-20</td>\n      <td>193.869995</td>\n      <td>194.119995</td>\n      <td>187.039993</td>\n      <td>191.929993</td>\n      <td>191.929993</td>\n      <td>4503200.0</td>\n    </tr>\n  </tbody>\n</table>\n<p>1793 rows × 7 columns</p>\n</div>"
     },
     "metadata": {},
     "execution_count": 184
    }
   ],
   "source": [
    "data.sample(frac=1) # 0 <= frac <= 1"
   ]
  },
  {
   "cell_type": "code",
   "execution_count": 218,
   "metadata": {},
   "outputs": [
    {
     "output_type": "execute_result",
     "data": {
      "text/plain": [
       "0              NaN\n",
       "1              NaN\n",
       "2              NaN\n",
       "3              NaN\n",
       "4        20.998000\n",
       "           ...    \n",
       "1788    327.692004\n",
       "1789    330.218005\n",
       "1790    334.586005\n",
       "1791    340.926007\n",
       "1792    350.056006\n",
       "Name: Adj Close, Length: 1793, dtype: float64"
      ]
     },
     "metadata": {},
     "execution_count": 218
    }
   ],
   "source": [
    "data['Adj Close'].rolling(5).mean() # aggregation method {mean, median, sum, min, max}"
   ]
  },
  {
   "cell_type": "code",
   "execution_count": 187,
   "metadata": {},
   "outputs": [
    {
     "output_type": "execute_result",
     "data": {
      "text/plain": [
       "           Date        Open        High         Low       Close   Adj Close  \\\n",
       "1761 2017-06-23  382.450012  386.989990  379.350006  383.450012  383.450012   \n",
       "1760 2017-06-22  377.989990  385.000000  373.570007  382.609985  382.609985   \n",
       "1754 2017-06-14  381.089996  384.250000  376.309998  380.660004  380.660004   \n",
       "1762 2017-06-26  386.690002  386.950012  373.100006  377.489990  377.489990   \n",
       "1759 2017-06-21  374.350006  376.989990  368.019989  376.399994  376.399994   \n",
       "...         ...         ...         ...         ...         ...         ...   \n",
       "7    2010-09-07   17.580000   17.900000   16.549999   17.400000   17.400000   \n",
       "8    2010-12-07   17.950001   18.070000   17.000000   17.049999   17.049999   \n",
       "5    2010-07-07   16.400000   16.629999   14.980000   15.800000         NaN   \n",
       "0    2010-06-29         NaN         NaN         NaN         NaN   23.889999   \n",
       "4    2010-06-07   20.000000   20.000000   15.830000         NaN   16.110001   \n",
       "\n",
       "          Volume  \n",
       "1761   6445800.0  \n",
       "1760   7529800.0  \n",
       "1754  12818400.0  \n",
       "1762   6604100.0  \n",
       "1759   4923200.0  \n",
       "...          ...  \n",
       "7      4050600.0  \n",
       "8      2202500.0  \n",
       "5      6921700.0  \n",
       "0     18766300.0  \n",
       "4      6866900.0  \n",
       "\n",
       "[1793 rows x 7 columns]"
      ],
      "text/html": "<div>\n<style scoped>\n    .dataframe tbody tr th:only-of-type {\n        vertical-align: middle;\n    }\n\n    .dataframe tbody tr th {\n        vertical-align: top;\n    }\n\n    .dataframe thead th {\n        text-align: right;\n    }\n</style>\n<table border=\"1\" class=\"dataframe\">\n  <thead>\n    <tr style=\"text-align: right;\">\n      <th></th>\n      <th>Date</th>\n      <th>Open</th>\n      <th>High</th>\n      <th>Low</th>\n      <th>Close</th>\n      <th>Adj Close</th>\n      <th>Volume</th>\n    </tr>\n  </thead>\n  <tbody>\n    <tr>\n      <th>1761</th>\n      <td>2017-06-23</td>\n      <td>382.450012</td>\n      <td>386.989990</td>\n      <td>379.350006</td>\n      <td>383.450012</td>\n      <td>383.450012</td>\n      <td>6445800.0</td>\n    </tr>\n    <tr>\n      <th>1760</th>\n      <td>2017-06-22</td>\n      <td>377.989990</td>\n      <td>385.000000</td>\n      <td>373.570007</td>\n      <td>382.609985</td>\n      <td>382.609985</td>\n      <td>7529800.0</td>\n    </tr>\n    <tr>\n      <th>1754</th>\n      <td>2017-06-14</td>\n      <td>381.089996</td>\n      <td>384.250000</td>\n      <td>376.309998</td>\n      <td>380.660004</td>\n      <td>380.660004</td>\n      <td>12818400.0</td>\n    </tr>\n    <tr>\n      <th>1762</th>\n      <td>2017-06-26</td>\n      <td>386.690002</td>\n      <td>386.950012</td>\n      <td>373.100006</td>\n      <td>377.489990</td>\n      <td>377.489990</td>\n      <td>6604100.0</td>\n    </tr>\n    <tr>\n      <th>1759</th>\n      <td>2017-06-21</td>\n      <td>374.350006</td>\n      <td>376.989990</td>\n      <td>368.019989</td>\n      <td>376.399994</td>\n      <td>376.399994</td>\n      <td>4923200.0</td>\n    </tr>\n    <tr>\n      <th>...</th>\n      <td>...</td>\n      <td>...</td>\n      <td>...</td>\n      <td>...</td>\n      <td>...</td>\n      <td>...</td>\n      <td>...</td>\n    </tr>\n    <tr>\n      <th>7</th>\n      <td>2010-09-07</td>\n      <td>17.580000</td>\n      <td>17.900000</td>\n      <td>16.549999</td>\n      <td>17.400000</td>\n      <td>17.400000</td>\n      <td>4050600.0</td>\n    </tr>\n    <tr>\n      <th>8</th>\n      <td>2010-12-07</td>\n      <td>17.950001</td>\n      <td>18.070000</td>\n      <td>17.000000</td>\n      <td>17.049999</td>\n      <td>17.049999</td>\n      <td>2202500.0</td>\n    </tr>\n    <tr>\n      <th>5</th>\n      <td>2010-07-07</td>\n      <td>16.400000</td>\n      <td>16.629999</td>\n      <td>14.980000</td>\n      <td>15.800000</td>\n      <td>NaN</td>\n      <td>6921700.0</td>\n    </tr>\n    <tr>\n      <th>0</th>\n      <td>2010-06-29</td>\n      <td>NaN</td>\n      <td>NaN</td>\n      <td>NaN</td>\n      <td>NaN</td>\n      <td>23.889999</td>\n      <td>18766300.0</td>\n    </tr>\n    <tr>\n      <th>4</th>\n      <td>2010-06-07</td>\n      <td>20.000000</td>\n      <td>20.000000</td>\n      <td>15.830000</td>\n      <td>NaN</td>\n      <td>16.110001</td>\n      <td>6866900.0</td>\n    </tr>\n  </tbody>\n</table>\n<p>1793 rows × 7 columns</p>\n</div>"
     },
     "metadata": {},
     "execution_count": 187
    }
   ],
   "source": [
    "data.sort_values(by=['Close'], ascending=False, inplace=False)"
   ]
  },
  {
   "cell_type": "code",
   "execution_count": 188,
   "metadata": {},
   "outputs": [
    {
     "output_type": "execute_result",
     "data": {
      "text/plain": [
       "           Date\n",
       "0    2010-06-29\n",
       "1    2010-06-30\n",
       "2    2010-01-07\n",
       "3    2010-02-07\n",
       "4    2010-06-07\n",
       "...         ...\n",
       "1788 2017-02-08\n",
       "1789 2017-03-08\n",
       "1790 2017-04-08\n",
       "1791 2017-07-08\n",
       "1792 2017-08-08\n",
       "\n",
       "[1793 rows x 1 columns]"
      ],
      "text/html": "<div>\n<style scoped>\n    .dataframe tbody tr th:only-of-type {\n        vertical-align: middle;\n    }\n\n    .dataframe tbody tr th {\n        vertical-align: top;\n    }\n\n    .dataframe thead th {\n        text-align: right;\n    }\n</style>\n<table border=\"1\" class=\"dataframe\">\n  <thead>\n    <tr style=\"text-align: right;\">\n      <th></th>\n      <th>Date</th>\n    </tr>\n  </thead>\n  <tbody>\n    <tr>\n      <th>0</th>\n      <td>2010-06-29</td>\n    </tr>\n    <tr>\n      <th>1</th>\n      <td>2010-06-30</td>\n    </tr>\n    <tr>\n      <th>2</th>\n      <td>2010-01-07</td>\n    </tr>\n    <tr>\n      <th>3</th>\n      <td>2010-02-07</td>\n    </tr>\n    <tr>\n      <th>4</th>\n      <td>2010-06-07</td>\n    </tr>\n    <tr>\n      <th>...</th>\n      <td>...</td>\n    </tr>\n    <tr>\n      <th>1788</th>\n      <td>2017-02-08</td>\n    </tr>\n    <tr>\n      <th>1789</th>\n      <td>2017-03-08</td>\n    </tr>\n    <tr>\n      <th>1790</th>\n      <td>2017-04-08</td>\n    </tr>\n    <tr>\n      <th>1791</th>\n      <td>2017-07-08</td>\n    </tr>\n    <tr>\n      <th>1792</th>\n      <td>2017-08-08</td>\n    </tr>\n  </tbody>\n</table>\n<p>1793 rows × 1 columns</p>\n</div>"
     },
     "metadata": {},
     "execution_count": 188
    }
   ],
   "source": [
    "data.select_dtypes(include=['datetime']) # only columns with datetime datatype will be kept"
   ]
  },
  {
   "cell_type": "code",
   "execution_count": 190,
   "metadata": {},
   "outputs": [
    {
     "output_type": "execute_result",
     "data": {
      "text/plain": [
       "           Date        Open        High         Low       Close   Adj Close  \\\n",
       "1    2010-06-30         NaN   30.420000   23.299999   23.830000   23.830000   \n",
       "2    2010-01-07   25.000000         NaN   20.270000   21.959999   21.959999   \n",
       "3    2010-02-07   23.000000   23.100000         NaN   19.200001   19.200001   \n",
       "4    2010-06-07   20.000000   20.000000   15.830000         NaN   16.110001   \n",
       "5    2010-07-07   16.400000   16.629999   14.980000   15.800000         NaN   \n",
       "...         ...         ...         ...         ...         ...         ...   \n",
       "1788 2017-02-08  318.940002  327.119995  311.220001  325.890015  325.890015   \n",
       "1789 2017-03-08  345.329987  350.000000  343.149994  347.089996  347.089996   \n",
       "1790 2017-04-08  347.000000  357.269989  343.299988  356.910004  356.910004   \n",
       "1791 2017-07-08  357.350006  359.480011  352.750000  355.170013  355.170013   \n",
       "1792 2017-08-08  357.529999  368.579987  357.399994  365.220001  365.220001   \n",
       "\n",
       "          Volume  \n",
       "1     17187100.0  \n",
       "2      8218800.0  \n",
       "3      5139800.0  \n",
       "4      6866900.0  \n",
       "5      6921700.0  \n",
       "...          ...  \n",
       "1788  13091500.0  \n",
       "1789  13535000.0  \n",
       "1790   9198400.0  \n",
       "1791   6276900.0  \n",
       "1792   7449837.0  \n",
       "\n",
       "[1792 rows x 7 columns]"
      ],
      "text/html": "<div>\n<style scoped>\n    .dataframe tbody tr th:only-of-type {\n        vertical-align: middle;\n    }\n\n    .dataframe tbody tr th {\n        vertical-align: top;\n    }\n\n    .dataframe thead th {\n        text-align: right;\n    }\n</style>\n<table border=\"1\" class=\"dataframe\">\n  <thead>\n    <tr style=\"text-align: right;\">\n      <th></th>\n      <th>Date</th>\n      <th>Open</th>\n      <th>High</th>\n      <th>Low</th>\n      <th>Close</th>\n      <th>Adj Close</th>\n      <th>Volume</th>\n    </tr>\n  </thead>\n  <tbody>\n    <tr>\n      <th>1</th>\n      <td>2010-06-30</td>\n      <td>NaN</td>\n      <td>30.420000</td>\n      <td>23.299999</td>\n      <td>23.830000</td>\n      <td>23.830000</td>\n      <td>17187100.0</td>\n    </tr>\n    <tr>\n      <th>2</th>\n      <td>2010-01-07</td>\n      <td>25.000000</td>\n      <td>NaN</td>\n      <td>20.270000</td>\n      <td>21.959999</td>\n      <td>21.959999</td>\n      <td>8218800.0</td>\n    </tr>\n    <tr>\n      <th>3</th>\n      <td>2010-02-07</td>\n      <td>23.000000</td>\n      <td>23.100000</td>\n      <td>NaN</td>\n      <td>19.200001</td>\n      <td>19.200001</td>\n      <td>5139800.0</td>\n    </tr>\n    <tr>\n      <th>4</th>\n      <td>2010-06-07</td>\n      <td>20.000000</td>\n      <td>20.000000</td>\n      <td>15.830000</td>\n      <td>NaN</td>\n      <td>16.110001</td>\n      <td>6866900.0</td>\n    </tr>\n    <tr>\n      <th>5</th>\n      <td>2010-07-07</td>\n      <td>16.400000</td>\n      <td>16.629999</td>\n      <td>14.980000</td>\n      <td>15.800000</td>\n      <td>NaN</td>\n      <td>6921700.0</td>\n    </tr>\n    <tr>\n      <th>...</th>\n      <td>...</td>\n      <td>...</td>\n      <td>...</td>\n      <td>...</td>\n      <td>...</td>\n      <td>...</td>\n      <td>...</td>\n    </tr>\n    <tr>\n      <th>1788</th>\n      <td>2017-02-08</td>\n      <td>318.940002</td>\n      <td>327.119995</td>\n      <td>311.220001</td>\n      <td>325.890015</td>\n      <td>325.890015</td>\n      <td>13091500.0</td>\n    </tr>\n    <tr>\n      <th>1789</th>\n      <td>2017-03-08</td>\n      <td>345.329987</td>\n      <td>350.000000</td>\n      <td>343.149994</td>\n      <td>347.089996</td>\n      <td>347.089996</td>\n      <td>13535000.0</td>\n    </tr>\n    <tr>\n      <th>1790</th>\n      <td>2017-04-08</td>\n      <td>347.000000</td>\n      <td>357.269989</td>\n      <td>343.299988</td>\n      <td>356.910004</td>\n      <td>356.910004</td>\n      <td>9198400.0</td>\n    </tr>\n    <tr>\n      <th>1791</th>\n      <td>2017-07-08</td>\n      <td>357.350006</td>\n      <td>359.480011</td>\n      <td>352.750000</td>\n      <td>355.170013</td>\n      <td>355.170013</td>\n      <td>6276900.0</td>\n    </tr>\n    <tr>\n      <th>1792</th>\n      <td>2017-08-08</td>\n      <td>357.529999</td>\n      <td>368.579987</td>\n      <td>357.399994</td>\n      <td>365.220001</td>\n      <td>365.220001</td>\n      <td>7449837.0</td>\n    </tr>\n  </tbody>\n</table>\n<p>1792 rows × 7 columns</p>\n</div>"
     },
     "metadata": {},
     "execution_count": 190
    }
   ],
   "source": [
    "data.dropna(axis=0, inplace=False, thresh=4) # the row need to be a minimum of 4 non-NA otherwise it will be removed"
   ]
  },
  {
   "cell_type": "code",
   "execution_count": 191,
   "metadata": {},
   "outputs": [
    {
     "output_type": "execute_result",
     "data": {
      "text/plain": [
       "           Date        Open        High         Low       Close   Adj Close  \\\n",
       "0    2010-06-29         NaN         NaN         NaN         NaN   23.889999   \n",
       "1    2010-06-30         NaN   30.420000   23.299999   23.830000   23.830000   \n",
       "2    2010-01-07   25.000000         NaN   20.270000   21.959999   21.959999   \n",
       "3    2010-02-07   23.000000   23.100000         NaN   19.200001   19.200001   \n",
       "4    2010-06-07   20.000000   20.000000   15.830000         NaN   16.110001   \n",
       "...         ...         ...         ...         ...         ...         ...   \n",
       "1788 2017-02-08  318.940002  327.119995  311.220001  325.890015  325.890015   \n",
       "1789 2017-03-08  345.329987  350.000000  343.149994  347.089996  347.089996   \n",
       "1790 2017-04-08  347.000000  357.269989  343.299988  356.910004  356.910004   \n",
       "1791 2017-07-08  357.350006  359.480011  352.750000  355.170013  355.170013   \n",
       "1792 2017-08-08  357.529999  368.579987  357.399994  365.220001  365.220001   \n",
       "\n",
       "          Volume  \n",
       "0     18766300.0  \n",
       "1     17187100.0  \n",
       "2      8218800.0  \n",
       "3      5139800.0  \n",
       "4      6866900.0  \n",
       "...          ...  \n",
       "1788  13091500.0  \n",
       "1789  13535000.0  \n",
       "1790   9198400.0  \n",
       "1791   6276900.0  \n",
       "1792   7449837.0  \n",
       "\n",
       "[1791 rows x 7 columns]"
      ],
      "text/html": "<div>\n<style scoped>\n    .dataframe tbody tr th:only-of-type {\n        vertical-align: middle;\n    }\n\n    .dataframe tbody tr th {\n        vertical-align: top;\n    }\n\n    .dataframe thead th {\n        text-align: right;\n    }\n</style>\n<table border=\"1\" class=\"dataframe\">\n  <thead>\n    <tr style=\"text-align: right;\">\n      <th></th>\n      <th>Date</th>\n      <th>Open</th>\n      <th>High</th>\n      <th>Low</th>\n      <th>Close</th>\n      <th>Adj Close</th>\n      <th>Volume</th>\n    </tr>\n  </thead>\n  <tbody>\n    <tr>\n      <th>0</th>\n      <td>2010-06-29</td>\n      <td>NaN</td>\n      <td>NaN</td>\n      <td>NaN</td>\n      <td>NaN</td>\n      <td>23.889999</td>\n      <td>18766300.0</td>\n    </tr>\n    <tr>\n      <th>1</th>\n      <td>2010-06-30</td>\n      <td>NaN</td>\n      <td>30.420000</td>\n      <td>23.299999</td>\n      <td>23.830000</td>\n      <td>23.830000</td>\n      <td>17187100.0</td>\n    </tr>\n    <tr>\n      <th>2</th>\n      <td>2010-01-07</td>\n      <td>25.000000</td>\n      <td>NaN</td>\n      <td>20.270000</td>\n      <td>21.959999</td>\n      <td>21.959999</td>\n      <td>8218800.0</td>\n    </tr>\n    <tr>\n      <th>3</th>\n      <td>2010-02-07</td>\n      <td>23.000000</td>\n      <td>23.100000</td>\n      <td>NaN</td>\n      <td>19.200001</td>\n      <td>19.200001</td>\n      <td>5139800.0</td>\n    </tr>\n    <tr>\n      <th>4</th>\n      <td>2010-06-07</td>\n      <td>20.000000</td>\n      <td>20.000000</td>\n      <td>15.830000</td>\n      <td>NaN</td>\n      <td>16.110001</td>\n      <td>6866900.0</td>\n    </tr>\n    <tr>\n      <th>...</th>\n      <td>...</td>\n      <td>...</td>\n      <td>...</td>\n      <td>...</td>\n      <td>...</td>\n      <td>...</td>\n      <td>...</td>\n    </tr>\n    <tr>\n      <th>1788</th>\n      <td>2017-02-08</td>\n      <td>318.940002</td>\n      <td>327.119995</td>\n      <td>311.220001</td>\n      <td>325.890015</td>\n      <td>325.890015</td>\n      <td>13091500.0</td>\n    </tr>\n    <tr>\n      <th>1789</th>\n      <td>2017-03-08</td>\n      <td>345.329987</td>\n      <td>350.000000</td>\n      <td>343.149994</td>\n      <td>347.089996</td>\n      <td>347.089996</td>\n      <td>13535000.0</td>\n    </tr>\n    <tr>\n      <th>1790</th>\n      <td>2017-04-08</td>\n      <td>347.000000</td>\n      <td>357.269989</td>\n      <td>343.299988</td>\n      <td>356.910004</td>\n      <td>356.910004</td>\n      <td>9198400.0</td>\n    </tr>\n    <tr>\n      <th>1791</th>\n      <td>2017-07-08</td>\n      <td>357.350006</td>\n      <td>359.480011</td>\n      <td>352.750000</td>\n      <td>355.170013</td>\n      <td>355.170013</td>\n      <td>6276900.0</td>\n    </tr>\n    <tr>\n      <th>1792</th>\n      <td>2017-08-08</td>\n      <td>357.529999</td>\n      <td>368.579987</td>\n      <td>357.399994</td>\n      <td>365.220001</td>\n      <td>365.220001</td>\n      <td>7449837.0</td>\n    </tr>\n  </tbody>\n</table>\n<p>1791 rows × 7 columns</p>\n</div>"
     },
     "metadata": {},
     "execution_count": 191
    }
   ],
   "source": [
    "data.drop_duplicates()"
   ]
  },
  {
   "cell_type": "code",
   "execution_count": 192,
   "metadata": {},
   "outputs": [
    {
     "output_type": "stream",
     "name": "stdout",
     "text": [
      "Help on method drop_duplicates in module pandas.core.frame:\n\ndrop_duplicates(subset: Union[Hashable, Sequence[Hashable], NoneType] = None, keep: Union[str, bool] = 'first', inplace: bool = False, ignore_index: bool = False) -> Union[ForwardRef('DataFrame'), NoneType] method of pandas.core.frame.DataFrame instance\n    Return DataFrame with duplicate rows removed.\n    \n    Considering certain columns is optional. Indexes, including time indexes\n    are ignored.\n    \n    Parameters\n    ----------\n    subset : column label or sequence of labels, optional\n        Only consider certain columns for identifying duplicates, by\n        default use all of the columns.\n    keep : {'first', 'last', False}, default 'first'\n        Determines which duplicates (if any) to keep.\n        - ``first`` : Drop duplicates except for the first occurrence.\n        - ``last`` : Drop duplicates except for the last occurrence.\n        - False : Drop all duplicates.\n    inplace : bool, default False\n        Whether to drop duplicates in place or to return a copy.\n    ignore_index : bool, default False\n        If True, the resulting axis will be labeled 0, 1, …, n - 1.\n    \n        .. versionadded:: 1.0.0\n    \n    Returns\n    -------\n    DataFrame\n        DataFrame with duplicates removed or None if ``inplace=True``.\n\n"
     ]
    }
   ],
   "source": [
    "help(data.drop_duplicates)"
   ]
  },
  {
   "cell_type": "code",
   "execution_count": 207,
   "metadata": {},
   "outputs": [
    {
     "output_type": "execute_result",
     "data": {
      "text/plain": [
       "         Date       Open       High        Low      Close  Adj Close  \\\n",
       "0  2010-06-29        NaN        NaN        NaN        NaN  23.889999   \n",
       "1  2010-06-30        NaN  30.420000  23.299999  23.830000  23.830000   \n",
       "2  2010-01-07  25.000000        NaN  20.270000  21.959999  21.959999   \n",
       "3  2010-02-07  23.000000  23.100000        NaN  19.200001  19.200001   \n",
       "4  2010-06-07  20.000000  20.000000  15.830000        NaN  16.110001   \n",
       "5  2010-07-07  16.400000  16.629999  14.980000  15.800000        NaN   \n",
       "6  2010-08-07  16.139999  17.520000  15.570000  17.459999  17.459999   \n",
       "7  2010-09-07  17.580000  17.900000  16.549999  17.400000  17.400000   \n",
       "8  2010-12-07  17.950001  18.070000  17.000000  17.049999  17.049999   \n",
       "9  2010-07-13  17.389999  18.639999  16.900000  18.139999  18.139999   \n",
       "10 2010-07-14  17.940001  20.150000  17.760000  19.840000  19.840000   \n",
       "11 2010-07-15  19.940001  21.500000  19.000000  19.889999  19.889999   \n",
       "12 2010-07-20  21.850000  21.850000  20.049999  20.299999  20.299999   \n",
       "13 2010-07-21  20.660000  20.900000  19.500000  20.219999  20.219999   \n",
       "14 2010-07-22  20.500000  21.250000  20.370001  21.000000  21.000000   \n",
       "15 2010-07-23  21.190001  21.559999  21.059999  21.290001  21.290001   \n",
       "16 2010-07-26  21.500000  21.500000  20.299999  20.950001  20.950001   \n",
       "17 2010-07-27  20.910000  21.180000  20.260000  20.549999  20.549999   \n",
       "18 2010-07-28  20.549999  20.900000  20.510000  20.719999  20.719999   \n",
       "19 2010-07-29  20.770000  20.879999  20.000000  20.350000  20.350000   \n",
       "\n",
       "        Volume  \n",
       "0   18766300.0  \n",
       "1   17187100.0  \n",
       "2    8218800.0  \n",
       "3    5139800.0  \n",
       "4    6866900.0  \n",
       "5    6921700.0  \n",
       "6          NaN  \n",
       "7    4050600.0  \n",
       "8    2202500.0  \n",
       "9    2680100.0  \n",
       "10   4195200.0  \n",
       "11   3739800.0  \n",
       "12   1825300.0  \n",
       "13   1252500.0  \n",
       "14    957800.0  \n",
       "15    653600.0  \n",
       "16    922200.0  \n",
       "17    619700.0  \n",
       "18    467200.0  \n",
       "19    616000.0  "
      ],
      "text/html": "<div>\n<style scoped>\n    .dataframe tbody tr th:only-of-type {\n        vertical-align: middle;\n    }\n\n    .dataframe tbody tr th {\n        vertical-align: top;\n    }\n\n    .dataframe thead th {\n        text-align: right;\n    }\n</style>\n<table border=\"1\" class=\"dataframe\">\n  <thead>\n    <tr style=\"text-align: right;\">\n      <th></th>\n      <th>Date</th>\n      <th>Open</th>\n      <th>High</th>\n      <th>Low</th>\n      <th>Close</th>\n      <th>Adj Close</th>\n      <th>Volume</th>\n    </tr>\n  </thead>\n  <tbody>\n    <tr>\n      <th>0</th>\n      <td>2010-06-29</td>\n      <td>NaN</td>\n      <td>NaN</td>\n      <td>NaN</td>\n      <td>NaN</td>\n      <td>23.889999</td>\n      <td>18766300.0</td>\n    </tr>\n    <tr>\n      <th>1</th>\n      <td>2010-06-30</td>\n      <td>NaN</td>\n      <td>30.420000</td>\n      <td>23.299999</td>\n      <td>23.830000</td>\n      <td>23.830000</td>\n      <td>17187100.0</td>\n    </tr>\n    <tr>\n      <th>2</th>\n      <td>2010-01-07</td>\n      <td>25.000000</td>\n      <td>NaN</td>\n      <td>20.270000</td>\n      <td>21.959999</td>\n      <td>21.959999</td>\n      <td>8218800.0</td>\n    </tr>\n    <tr>\n      <th>3</th>\n      <td>2010-02-07</td>\n      <td>23.000000</td>\n      <td>23.100000</td>\n      <td>NaN</td>\n      <td>19.200001</td>\n      <td>19.200001</td>\n      <td>5139800.0</td>\n    </tr>\n    <tr>\n      <th>4</th>\n      <td>2010-06-07</td>\n      <td>20.000000</td>\n      <td>20.000000</td>\n      <td>15.830000</td>\n      <td>NaN</td>\n      <td>16.110001</td>\n      <td>6866900.0</td>\n    </tr>\n    <tr>\n      <th>5</th>\n      <td>2010-07-07</td>\n      <td>16.400000</td>\n      <td>16.629999</td>\n      <td>14.980000</td>\n      <td>15.800000</td>\n      <td>NaN</td>\n      <td>6921700.0</td>\n    </tr>\n    <tr>\n      <th>6</th>\n      <td>2010-08-07</td>\n      <td>16.139999</td>\n      <td>17.520000</td>\n      <td>15.570000</td>\n      <td>17.459999</td>\n      <td>17.459999</td>\n      <td>NaN</td>\n    </tr>\n    <tr>\n      <th>7</th>\n      <td>2010-09-07</td>\n      <td>17.580000</td>\n      <td>17.900000</td>\n      <td>16.549999</td>\n      <td>17.400000</td>\n      <td>17.400000</td>\n      <td>4050600.0</td>\n    </tr>\n    <tr>\n      <th>8</th>\n      <td>2010-12-07</td>\n      <td>17.950001</td>\n      <td>18.070000</td>\n      <td>17.000000</td>\n      <td>17.049999</td>\n      <td>17.049999</td>\n      <td>2202500.0</td>\n    </tr>\n    <tr>\n      <th>9</th>\n      <td>2010-07-13</td>\n      <td>17.389999</td>\n      <td>18.639999</td>\n      <td>16.900000</td>\n      <td>18.139999</td>\n      <td>18.139999</td>\n      <td>2680100.0</td>\n    </tr>\n    <tr>\n      <th>10</th>\n      <td>2010-07-14</td>\n      <td>17.940001</td>\n      <td>20.150000</td>\n      <td>17.760000</td>\n      <td>19.840000</td>\n      <td>19.840000</td>\n      <td>4195200.0</td>\n    </tr>\n    <tr>\n      <th>11</th>\n      <td>2010-07-15</td>\n      <td>19.940001</td>\n      <td>21.500000</td>\n      <td>19.000000</td>\n      <td>19.889999</td>\n      <td>19.889999</td>\n      <td>3739800.0</td>\n    </tr>\n    <tr>\n      <th>12</th>\n      <td>2010-07-20</td>\n      <td>21.850000</td>\n      <td>21.850000</td>\n      <td>20.049999</td>\n      <td>20.299999</td>\n      <td>20.299999</td>\n      <td>1825300.0</td>\n    </tr>\n    <tr>\n      <th>13</th>\n      <td>2010-07-21</td>\n      <td>20.660000</td>\n      <td>20.900000</td>\n      <td>19.500000</td>\n      <td>20.219999</td>\n      <td>20.219999</td>\n      <td>1252500.0</td>\n    </tr>\n    <tr>\n      <th>14</th>\n      <td>2010-07-22</td>\n      <td>20.500000</td>\n      <td>21.250000</td>\n      <td>20.370001</td>\n      <td>21.000000</td>\n      <td>21.000000</td>\n      <td>957800.0</td>\n    </tr>\n    <tr>\n      <th>15</th>\n      <td>2010-07-23</td>\n      <td>21.190001</td>\n      <td>21.559999</td>\n      <td>21.059999</td>\n      <td>21.290001</td>\n      <td>21.290001</td>\n      <td>653600.0</td>\n    </tr>\n    <tr>\n      <th>16</th>\n      <td>2010-07-26</td>\n      <td>21.500000</td>\n      <td>21.500000</td>\n      <td>20.299999</td>\n      <td>20.950001</td>\n      <td>20.950001</td>\n      <td>922200.0</td>\n    </tr>\n    <tr>\n      <th>17</th>\n      <td>2010-07-27</td>\n      <td>20.910000</td>\n      <td>21.180000</td>\n      <td>20.260000</td>\n      <td>20.549999</td>\n      <td>20.549999</td>\n      <td>619700.0</td>\n    </tr>\n    <tr>\n      <th>18</th>\n      <td>2010-07-28</td>\n      <td>20.549999</td>\n      <td>20.900000</td>\n      <td>20.510000</td>\n      <td>20.719999</td>\n      <td>20.719999</td>\n      <td>467200.0</td>\n    </tr>\n    <tr>\n      <th>19</th>\n      <td>2010-07-29</td>\n      <td>20.770000</td>\n      <td>20.879999</td>\n      <td>20.000000</td>\n      <td>20.350000</td>\n      <td>20.350000</td>\n      <td>616000.0</td>\n    </tr>\n  </tbody>\n</table>\n</div>"
     },
     "metadata": {},
     "execution_count": 207
    }
   ],
   "source": [
    "data.drop_duplicates(keep=False, ignore_index=True)[:20]"
   ]
  },
  {
   "cell_type": "code",
   "execution_count": 209,
   "metadata": {},
   "outputs": [
    {
     "output_type": "execute_result",
     "data": {
      "text/plain": [
       "         Date       Open       High        Low      Close  Adj Close  \\\n",
       "12 2010-07-16  20.700001  21.299999  20.049999  20.639999  20.639999   \n",
       "14 2010-07-19  21.370001  22.250000  20.920000  21.910000  21.910000   \n",
       "\n",
       "       Volume  \n",
       "12  2621300.0  \n",
       "14  2486500.0  "
      ],
      "text/html": "<div>\n<style scoped>\n    .dataframe tbody tr th:only-of-type {\n        vertical-align: middle;\n    }\n\n    .dataframe tbody tr th {\n        vertical-align: top;\n    }\n\n    .dataframe thead th {\n        text-align: right;\n    }\n</style>\n<table border=\"1\" class=\"dataframe\">\n  <thead>\n    <tr style=\"text-align: right;\">\n      <th></th>\n      <th>Date</th>\n      <th>Open</th>\n      <th>High</th>\n      <th>Low</th>\n      <th>Close</th>\n      <th>Adj Close</th>\n      <th>Volume</th>\n    </tr>\n  </thead>\n  <tbody>\n    <tr>\n      <th>12</th>\n      <td>2010-07-16</td>\n      <td>20.700001</td>\n      <td>21.299999</td>\n      <td>20.049999</td>\n      <td>20.639999</td>\n      <td>20.639999</td>\n      <td>2621300.0</td>\n    </tr>\n    <tr>\n      <th>14</th>\n      <td>2010-07-19</td>\n      <td>21.370001</td>\n      <td>22.250000</td>\n      <td>20.920000</td>\n      <td>21.910000</td>\n      <td>21.910000</td>\n      <td>2486500.0</td>\n    </tr>\n  </tbody>\n</table>\n</div>"
     },
     "metadata": {},
     "execution_count": 209
    }
   ],
   "source": [
    "data[data.duplicated(keep='last')]"
   ]
  },
  {
   "cell_type": "code",
   "execution_count": 213,
   "metadata": {},
   "outputs": [
    {
     "output_type": "stream",
     "name": "stdout",
     "text": [
      "Help on method duplicated in module pandas.core.frame:\n\nduplicated(subset: Union[Hashable, Sequence[Hashable], NoneType] = None, keep: Union[str, bool] = 'first') -> 'Series' method of pandas.core.frame.DataFrame instance\n    Return boolean Series denoting duplicate rows.\n    \n    Considering certain columns is optional.\n    \n    Parameters\n    ----------\n    subset : column label or sequence of labels, optional\n        Only consider certain columns for identifying duplicates, by\n        default use all of the columns.\n    keep : {'first', 'last', False}, default 'first'\n        Determines which duplicates (if any) to mark.\n    \n        - ``first`` : Mark duplicates as ``True`` except for the first occurrence.\n        - ``last`` : Mark duplicates as ``True`` except for the last occurrence.\n        - False : Mark all duplicates as ``True``.\n    \n    Returns\n    -------\n    Series\n\n"
     ]
    }
   ],
   "source": [
    "help(data.duplicated)"
   ]
  },
  {
   "cell_type": "code",
   "execution_count": 215,
   "metadata": {},
   "outputs": [
    {
     "output_type": "execute_result",
     "data": {
      "text/plain": [
       "         Date       Open       High        Low      Close  Adj Close  \\\n",
       "12 2010-07-16  20.700001  21.299999  20.049999  20.639999  20.639999   \n",
       "13 2010-07-16  20.700001  21.299999  20.049999  20.639999  20.639999   \n",
       "14 2010-07-19  21.370001  22.250000  20.920000  21.910000  21.910000   \n",
       "15 2010-07-19  21.370001  22.250000  20.920000  21.910000  21.910000   \n",
       "\n",
       "       Volume  \n",
       "12  2621300.0  \n",
       "13  2621300.0  \n",
       "14  2486500.0  \n",
       "15  2486500.0  "
      ],
      "text/html": "<div>\n<style scoped>\n    .dataframe tbody tr th:only-of-type {\n        vertical-align: middle;\n    }\n\n    .dataframe tbody tr th {\n        vertical-align: top;\n    }\n\n    .dataframe thead th {\n        text-align: right;\n    }\n</style>\n<table border=\"1\" class=\"dataframe\">\n  <thead>\n    <tr style=\"text-align: right;\">\n      <th></th>\n      <th>Date</th>\n      <th>Open</th>\n      <th>High</th>\n      <th>Low</th>\n      <th>Close</th>\n      <th>Adj Close</th>\n      <th>Volume</th>\n    </tr>\n  </thead>\n  <tbody>\n    <tr>\n      <th>12</th>\n      <td>2010-07-16</td>\n      <td>20.700001</td>\n      <td>21.299999</td>\n      <td>20.049999</td>\n      <td>20.639999</td>\n      <td>20.639999</td>\n      <td>2621300.0</td>\n    </tr>\n    <tr>\n      <th>13</th>\n      <td>2010-07-16</td>\n      <td>20.700001</td>\n      <td>21.299999</td>\n      <td>20.049999</td>\n      <td>20.639999</td>\n      <td>20.639999</td>\n      <td>2621300.0</td>\n    </tr>\n    <tr>\n      <th>14</th>\n      <td>2010-07-19</td>\n      <td>21.370001</td>\n      <td>22.250000</td>\n      <td>20.920000</td>\n      <td>21.910000</td>\n      <td>21.910000</td>\n      <td>2486500.0</td>\n    </tr>\n    <tr>\n      <th>15</th>\n      <td>2010-07-19</td>\n      <td>21.370001</td>\n      <td>22.250000</td>\n      <td>20.920000</td>\n      <td>21.910000</td>\n      <td>21.910000</td>\n      <td>2486500.0</td>\n    </tr>\n  </tbody>\n</table>\n</div>"
     },
     "metadata": {},
     "execution_count": 215
    }
   ],
   "source": [
    "data[data.duplicated(keep=False)]"
   ]
  }
 ]
}