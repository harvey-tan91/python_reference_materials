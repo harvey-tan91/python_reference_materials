{
 "cells": [
  {
   "cell_type": "code",
   "execution_count": null,
   "source": [],
   "outputs": [],
   "metadata": {}
  },
  {
   "cell_type": "markdown",
   "source": [
    "***SkLearn Reference***\r\n",
    "=======================\r\n",
    "\r\n",
    "**Standard Import**\r\n",
    "-------------------\r\n",
    "```\r\n",
    "import sklearn.model_selection as ms\r\n",
    "import sklearn.impute as impute\r\n",
    "import sklearn.preprocessing as pp\r\n",
    "import sklearn.pipeline as pp\r\n",
    "import sklearn.compose as compose\r\n",
    "\r\n",
    "import sklearn.metrics as metrics \r\n",
    "\r\n",
    "```\r\n",
    "\r\n",
    "**Processing Data**\r\n",
    "-------------------\r\n",
    "*Handle Missing Data*\r\n",
    "---------------------\r\n",
    "[API - SimpleImputer](https://scikit-learn.org/stable/modules/generated/sklearn.impute.SimpleImputer.html)\r\n",
    "```\r\n",
    "imputer = impute.SimpleImputer(strategy = {'mean', 'median', 'most_frequent', 'constant', fill_value= 10, copy= True)\r\n",
    "imputer.fit_transform(X) --- return a numpy array\r\n",
    "```\r\n",
    "\r\n",
    "*Transformation*\r\n",
    "----------------\r\n",
    "[API - Preprocessing](https://scikit-learn.org/stable/modules/classes.html#module-sklearn.preprocessing)<br>\r\n",
    "[API - PolyFeatures](https://scikit-learn.org/stable/modules/generated/sklearn.preprocessing.PolynomialFeatures.html)<br>\r\n",
    "[API - MinMax](https://scikit-learn.org/stable/modules/generated/sklearn.preprocessing.MinMaxScaler.html)<br>\r\n",
    "[API - Standard](https://scikit-learn.org/stable/modules/generated/sklearn.preprocessing.StandardScaler.html)<br>\r\n",
    "[API - OneHot](https://scikit-learn.org/stable/modules/generated/sklearn.preprocessing.OneHotEncoder.html)<br>\r\n",
    "\r\n",
    "\r\n",
    "```\r\n",
    "pp.PolynomialFeatures(degree, include_bias)\r\n",
    "pp.MinMaxScaler()\r\n",
    "pp.StandardScaler()\r\n",
    "\r\n",
    "one_hot = pp.OneHotEncoder(sparse= False) --- return a numpy array if sparse = False else return a sparse matrix\r\n",
    "one_hot.get_feature_names() --- return the feature names in the transformed data\r\n",
    "\r\n",
    "\r\n",
    "```\r\n",
    "\r\n",
    "\r\n",
    "\r\n"
   ],
   "metadata": {}
  },
  {
   "cell_type": "code",
   "execution_count": null,
   "source": [],
   "outputs": [],
   "metadata": {}
  }
 ],
 "metadata": {
  "orig_nbformat": 4,
  "language_info": {
   "name": "python"
  }
 },
 "nbformat": 4,
 "nbformat_minor": 2
}