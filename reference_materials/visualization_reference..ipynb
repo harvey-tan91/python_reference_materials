{
 "cells": [
  {
   "cell_type": "code",
   "execution_count": null,
   "metadata": {},
   "outputs": [],
   "source": []
  },
  {
   "cell_type": "markdown",
   "metadata": {},
   "source": [
    "\r\n",
    "***Matplotlib Reference***\r\n",
    "==========================\r\n",
    "```import matplotlib.pyplot as plt```\r\n",
    "###\r\n",
    "* plt.plot(x, y\r\n",
    "            color= 'r', \r\n",
    "            linestyle= '-',\r\n",
    "            marker= 'o',\r\n",
    "            drawstyle= 'steps-post',\r\n",
    "            label= z) --- to create a line chart)\r\n",
    "* plt.bar() --- vertical bar chart\r\n",
    "* plt.barh() --- horizontal bar chart\r\n",
    "\r\n",
    "*Chart Information*\r\n",
    "-------------------\r\n",
    "* plt.figure((10,10)) --- to adjust the size of the chart figure\r\n",
    "* plt.legend(loc=df.X1) --- display legend\r\n",
    "* plt.xlabel( rotation={0,1}, fontsize=..., y=... ) --- to display the x-label title\r\n",
    "* plt.ylabel() --- to display the y-label title\r\n",
    "* plt.grid(True) --- to display the grid\r\n",
    "* plt.title(\"...\") --- to display the chart title\r\n",
    "* plt.axis([x,x,y,y]) --- to set the min and max value of the x and y coordinates\r\n",
    "    * plt.xlim( (int, int) )\r\n",
    "    * plt.xlim( (int, int) )\r\n",
    "* plt.text(x,y, \"text\") --- to insert a text box at the defined x,y coordinates\r\n",
    "* plt.savefig('name of file.png') --- this will save a copy of the chart in the cwd\r\n",
    "\r\n",
    "*Plotting from Pandas DataFrame*\r\n",
    "--------------------------------\r\n",
    "* pd.plotting.autocorrelation_plot(data.X1)\r\n",
    "* df.hist(fig_size=...) --- return the histogram of all numerical attributes\r\n",
    "* df.X1.plot()\r\n",
    "\r\n",
    "\r\n",
    "\r\n",
    "\r\n",
    "\r\n",
    "\r\n",
    "\r\n",
    "\r\n",
    "\r\n",
    "\r\n",
    "\r\n",
    "\r\n"
   ]
  },
  {
   "cell_type": "code",
   "execution_count": null,
   "metadata": {},
   "outputs": [],
   "source": []
  }
 ],
 "metadata": {
  "interpreter": {
   "hash": "eb8f35743f9001c30e3bbd777425f7e52a39aada76c3a9d7849db12bd416f99c"
  },
  "kernelspec": {
   "display_name": "Python 3.8.3 64-bit ('base': conda)",
   "name": "python3"
  },
  "language_info": {
   "name": "python",
   "version": ""
  },
  "orig_nbformat": 4
 },
 "nbformat": 4,
 "nbformat_minor": 2
}