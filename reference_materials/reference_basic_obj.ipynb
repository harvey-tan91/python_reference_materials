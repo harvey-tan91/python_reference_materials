{
 "cells": [
  {
   "cell_type": "code",
   "execution_count": null,
   "metadata": {},
   "outputs": [],
   "source": []
  },
  {
   "cell_type": "markdown",
   "metadata": {},
   "source": [
    "*String*\n",
    "--------\n",
    "* str.capitalize() --- return proper case\n",
    "* str.title() --- return proper case \n",
    "* str.swapcase() --- to swap the case of each letter \n",
    "* str.upper() --- return the string in upper case\n",
    "* str.lower) --- return the string in lower case\n",
    "* str.join(iterable) --- to concat the iterable with the string as the delimiter \n",
    "* str.count(substring) --- to count the number of times the substring appear in the string\n",
    "* str.replace(replace_this, replace_with_this) --- replace some defined substring\n",
    "* str.partition(delimiter_string) --- delimiter to split the string\n",
    "* str.split(delimiter_string) --- delimiter to split the string\n",
    "* str.splitlines() --- return a list using new lines as the delimiter\n",
    "* str.zfill(int) --- to left pad a numerical string\n",
    "* str.index(substring) --- to return the index where the substring is located\n",
    "* str.strip() --- return string with no trailing and leading whitespace\n",
    "<br>\n",
    "<br>\n",
    "**Logicial** \n",
    "* str.startswith(string|tuple) --- return True if string is the first letter, use tuple if need to test many letters\n",
    "* str.endswith(string|tuple) --- return True if string is the last letter, use tuple if need to test many letters\n",
    "* str.isupper() --- return True if string is upper case\n",
    "* str.islower() --- return True if string is lower case\n",
    "* str.isdigit() --- return True if string contains only numerical digits\n",
    "* str.isnumeric() --- return True if string contains only numerical digits\n",
    "* str.isspace() --- return True if string contain only whitespaces\n",
    "* str.isascii() --- return True if string contain only ASCII characters\n",
    "\n",
    "<br>\n",
    "<br>\n",
    "\n",
    "*List*\n",
    "------\n",
    "* lst.append(item) --- append item to the back of the list \n",
    "* lst.extend(iterable) --- append the iterable to the back of the list\n",
    "* lst.clear() --- remove all items from the list\n",
    "* lst.pop() --- removed the last item and return the value of the last item\n",
    "* lst.copy() --- return a copy of the list with a different id\n",
    "* lst.count(item) --- return the number of occurance of the item\n",
    "* lst.insert(index, item) --- insert item info the index of the list\n",
    "* lst.reverse() --- reverse the list in place\n",
    "* lst.sort(reverse=False, key=func) --- sort the list in place and/or based on some function \n",
    "* lst.index(item) --- return the index number of the item\n",
    "\n",
    "<br>\n",
    "<br>\n",
    "\n",
    "*Dict*\n",
    "------\n",
    "* d.clear() --- remove all items from the dictionary\n",
    "* d.copy() --- return a copy of the dictionary with a different id\n",
    "* d.get(key) --- return the value with the said key\n",
    "* d.fromkeys(iterable) --- replace the keys of the dictionary from the items in the iterable\n",
    "* d.keys() --- return a list of the keys\n",
    "* d.values() --- return a list of the values\n",
    "* d.update(dictionary) --- merge one dict to another dict\n",
    "* d.pop(key) --- removed the key-value pair and return the value\n",
    "* d.popitem() --- removed the key-value pair and return the key-value pair in a tuple\n",
    "\n"
   ]
  },
  {
   "cell_type": "code",
   "execution_count": null,
   "metadata": {},
   "outputs": [],
   "source": []
  }
 ],
 "metadata": {
  "interpreter": {
   "hash": "32328ac1cb0e6d2bb432cee35df4a3325269901c33127e1edfe10c7ce9cbd3c6"
  },
  "kernelspec": {
   "display_name": "Python 3.8.3 64-bit ('base': conda)",
   "name": "python3"
  },
  "language_info": {
   "codemirror_mode": {
    "name": "ipython",
    "version": 3
   },
   "file_extension": ".py",
   "mimetype": "text/x-python",
   "name": "python",
   "nbconvert_exporter": "python",
   "pygments_lexer": "ipython3",
   "version": "3.8.3"
  },
  "orig_nbformat": 4
 },
 "nbformat": 4,
 "nbformat_minor": 2
}
